{
 "cells": [
  {
   "cell_type": "markdown",
   "id": "b2f28460",
   "metadata": {},
   "source": [
    "### Serial version without using libraries"
   ]
  },
  {
   "cell_type": "code",
   "execution_count": null,
   "id": "6005c596",
   "metadata": {},
   "outputs": [],
   "source": [
    "import sys\n",
    "\n",
    "# Variables que quieres cambiar desde la línea de comandos\n",
    "num_trials = float(sys.argv[1]) if len(sys.argv) > 1 else valor_por_defecto1\n",
    "\n",
    "num_trials=int(num_trials)"
   ]
  },
  {
   "cell_type": "code",
   "execution_count": 2,
   "id": "f462dff0",
   "metadata": {},
   "outputs": [
    {
     "name": "stdout",
     "output_type": "stream",
     "text": [
      "\n",
      " \t Computing pi in serial: \n",
      "\n",
      "\t For 1000000 trials, pi = 3.144792\n",
      "\n",
      "3.94 s ± 4.81 ms per loop (mean ± std. dev. of 3 runs, 1 loop each)\n"
     ]
    }
   ],
   "source": [
    "import random\n",
    "import sys\n",
    "\n",
    "def calc_pi(N):\n",
    "    M = 0\n",
    "    for i in range(N):\n",
    "    # Simulate impact coordinates\n",
    "        x = random.uniform(-1, 1)\n",
    "        y = random.uniform(-1, 1)\n",
    "    # True if impact happens inside the circle\n",
    "        if x**2 + y**2 < 1.0:\n",
    "            M += 1\n",
    "    return 4 * M / N\n",
    "\n",
    "pi = calc_pi(num_trials)\n",
    "\n",
    "print(\"\\n \\t Computing pi in serial: \\n\")\n",
    "print(\"\\t For %d trials, pi = %f\\n\" % (num_trials,pi))\n",
    "\n",
    "%timeit -r3 calc_pi(num_trials)"
   ]
  },
  {
   "cell_type": "markdown",
   "id": "fd160617",
   "metadata": {},
   "source": [
    "### Serial version with numpy w/o arrays"
   ]
  },
  {
   "cell_type": "code",
   "execution_count": 4,
   "id": "35f61ae5",
   "metadata": {
    "scrolled": true
   },
   "outputs": [
    {
     "name": "stdout",
     "output_type": "stream",
     "text": [
      "\n",
      " \t Computing pi in serial with numpy w/o arrays: \n",
      "\n",
      "\t For 1000000 trials, pi = 3.141620\n",
      "\n",
      "7.64 s ± 13.8 ms per loop (mean ± std. dev. of 3 runs, 1 loop each)\n"
     ]
    }
   ],
   "source": [
    "import numpy.random as rng\n",
    "\n",
    "def calc_pi_numpy(N):\n",
    "    Ncirc = 0\n",
    "    for _ in range(num_trials):\n",
    "        x = rng.random()\n",
    "        y = rng.random()\n",
    "        if ( x**2 + y**2 < 1.0 ):\n",
    "            Ncirc +=1\n",
    "    return 4 * Ncirc / N\n",
    "\n",
    "pi = calc_pi_numpy(num_trials)\n",
    "\n",
    "print(\"\\n \\t Computing pi in serial with numpy w/o arrays: \\n\")\n",
    "print(\"\\t For %d trials, pi = %f\\n\" % (num_trials,pi))\n",
    "\n",
    "%timeit -r3 calc_pi_numpy(num_trials)"
   ]
  },
  {
   "cell_type": "markdown",
   "id": "1d029d1c",
   "metadata": {},
   "source": [
    "**Vemos como al añadir la librería Numpy pero no utilizar Arrays, la velocidad de ejecución no es que no aumente, si no que encima disminuye, el trabajo se realiza más lento**"
   ]
  },
  {
   "cell_type": "markdown",
   "id": "5404f69b",
   "metadata": {},
   "source": [
    "### Serial version with numpy w/ arrays"
   ]
  },
  {
   "cell_type": "code",
   "execution_count": 5,
   "id": "661e8ca1",
   "metadata": {},
   "outputs": [
    {
     "name": "stdout",
     "output_type": "stream",
     "text": [
      "\n",
      " \t Computing pi in serial with numpy w/ arrays: \n",
      "\n",
      "\t For 1000000 trials, pi = 3.144636\n",
      "\n",
      "95 ms ± 127 µs per loop (mean ± std. dev. of 3 runs, 10 loops each)\n"
     ]
    }
   ],
   "source": [
    "import numpy as np\n",
    "\n",
    "def calc_pi_numpy2(N):\n",
    "# Simulate impact coordinates\n",
    "    pts = np.random.uniform(-1, 1, (2, N))\n",
    "# Count number of impacts inside the circle\n",
    "    M = np.count_nonzero((pts**2).sum(axis=0) < 1)\n",
    "    return 4 * M / N\n",
    "\n",
    "pi = calc_pi_numpy2(num_trials)\n",
    "\n",
    "print(\"\\n \\t Computing pi in serial with numpy w/ arrays: \\n\")\n",
    "print(\"\\t For %d trials, pi = %f\\n\" % (num_trials,pi))\n",
    "\n",
    "%timeit -r3 calc_pi_numpy2(num_trials)"
   ]
  },
  {
   "cell_type": "markdown",
   "id": "51be19d9",
   "metadata": {},
   "source": [
    "**Sin embargo al emplear Arrays, vemos como la velocidad de ejecución se dispara, reduciendose el tiempo de ejecución casi en x70, siendo por lo tanto mucho más eficiente**"
   ]
  },
  {
   "cell_type": "markdown",
   "id": "569fa705",
   "metadata": {},
   "source": [
    "### A version with numba from original code"
   ]
  },
  {
   "cell_type": "code",
   "execution_count": 6,
   "id": "90a8b407",
   "metadata": {},
   "outputs": [
    {
     "name": "stdout",
     "output_type": "stream",
     "text": [
      "\n",
      " \t Computing pi with numba: \n",
      "\n",
      "\t For 1000000 trials, pi = 3.139100\n",
      "\n",
      "44.5 ms ± 50.2 µs per loop (mean ± std. dev. of 3 runs, 10 loops each)\n"
     ]
    }
   ],
   "source": [
    "from numba import njit\n",
    "\n",
    "@njit(fastmath=True, cache=True, nogil=True)\n",
    "def calc_pi_numba(N):\n",
    "    M = 0\n",
    "    for i in range(N):\n",
    "# Simulate impact coordinates\n",
    "        x = random.uniform(-1, 1)\n",
    "        y = random.uniform(-1, 1)\n",
    "# True if impact happens inside the circle\n",
    "        if x**2 + y**2 < 1.0:\n",
    "            M += 1\n",
    "    return 4 * M / N\n",
    "\n",
    "pi = calc_pi_numba(num_trials)\n",
    "\n",
    "print(\"\\n \\t Computing pi with numba: \\n\")\n",
    "print(\"\\t For %d trials, pi = %f\\n\" % (num_trials,pi))\n",
    "\n",
    "%timeit -r3 calc_pi_numba(num_trials)"
   ]
  },
  {
   "cell_type": "markdown",
   "id": "e196ed7e",
   "metadata": {},
   "source": [
    "**En este caso, al utilizar la librería Numba y compilar el código de Python, la velocidad de ejecución es incluso mayor que empleando Numpy y Arrays, de manera que este método a priori es el más eficiente y el más rápido de todos**"
   ]
  }
 ],
 "metadata": {
  "kernelspec": {
   "display_name": "Python 3 (ipykernel)",
   "language": "python",
   "name": "python3"
  },
  "language_info": {
   "codemirror_mode": {
    "name": "ipython",
    "version": 3
   },
   "file_extension": ".py",
   "mimetype": "text/x-python",
   "name": "python",
   "nbconvert_exporter": "python",
   "pygments_lexer": "ipython3",
   "version": "3.10.9"
  }
 },
 "nbformat": 4,
 "nbformat_minor": 5
}
